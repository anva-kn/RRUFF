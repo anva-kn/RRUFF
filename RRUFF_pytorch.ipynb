{
 "cells": [
  {
   "cell_type": "code",
   "execution_count": null,
   "metadata": {
    "id": "R9w88kt4JQmY"
   },
   "outputs": [],
   "source": [
    "import re\n",
    "import os\n",
    "import json\n",
    "import numpy as np\n",
    "import pandas as pd\n",
    "import torch\n",
    "import random\n",
    "import pickle\n",
    "from torch.utils.data import Dataset, DataLoader"
   ]
  },
  {
   "cell_type": "code",
   "execution_count": null,
   "metadata": {
    "colab": {
     "base_uri": "https://localhost:8080/"
    },
    "id": "55RKX1b8ngG2",
    "outputId": "ef204819-d11d-43b0-ae9b-1115ce15d301"
   },
   "outputs": [],
   "source": [
    "ls"
   ]
  },
  {
   "cell_type": "code",
   "execution_count": null,
   "metadata": {
    "id": "2RuhR3a-PWIB"
   },
   "outputs": [],
   "source": [
    "files = sorted(os.listdir('RRUFF/raman'))"
   ]
  },
  {
   "cell_type": "code",
   "execution_count": null,
   "metadata": {
    "colab": {
     "base_uri": "https://localhost:8080/"
    },
    "id": "7rOHHilVdf2o",
    "outputId": "bd126f41-adf0-4e37-f6ff-aff7f48c296d"
   },
   "outputs": [],
   "source": [
    "# Opening JSON file\n",
    "f = open('RRUFF/labels.json',)\n",
    "   \n",
    "# returns JSON object as \n",
    "# a dictionary\n",
    "analytes = json.load(f)\n",
    "   \n",
    "# Iterating through the json\n",
    "# list\n",
    "for i in analytes:\n",
    "    print(i)\n",
    "  \n",
    "# Closing file\n",
    "f.close()"
   ]
  },
  {
   "cell_type": "code",
   "execution_count": null,
   "metadata": {
    "id": "pwFvtsBFqC-C"
   },
   "outputs": [],
   "source": [
    "print(files[0])\n",
    "files[0].split('_')"
   ]
  },
  {
   "cell_type": "code",
   "execution_count": null,
   "metadata": {
    "id": "yi7tCsT0tCWC"
   },
   "outputs": [],
   "source": [
    "dataset_dict={}"
   ]
  },
  {
   "cell_type": "code",
   "execution_count": null,
   "metadata": {
    "id": "mJseVoclgQC7"
   },
   "outputs": [],
   "source": [
    "count = 0\n",
    "dataset_dict = {}\n",
    "for analyte in sorted(list(analytes.keys())):\n",
    "  words = [analyte, 'Processed']\n",
    "  # print(analyte)\n",
    "  for _file_ in files:\n",
    "    # print(_file_)\n",
    "    stringlist = _file_.split('_')\n",
    "    if words[0] in stringlist and words[1] in stringlist:\n",
    "      print('analyte: {}, filename: {} \\n'.format(analyte, _file_))\n",
    "      if analyte not in dataset_dict:\n",
    "        print('analyte not in dataset')\n",
    "        print(analyte)\n",
    "        # print(dataset_dict[analyte])\n",
    "        dataset_dict[analyte] = [_file_]\n",
    "      else:\n",
    "        print('analyte in dataset')\n",
    "        print(analyte)\n",
    "        print(dataset_dict[analyte])\n",
    "        dataset_dict[analyte].append(_file_)"
   ]
  },
  {
   "cell_type": "code",
   "execution_count": null,
   "metadata": {
    "id": "j0Kj5RhApX5R"
   },
   "outputs": [],
   "source": [
    "dataset_dict"
   ]
  },
  {
   "cell_type": "code",
   "execution_count": null,
   "metadata": {
    "id": "7o73Py_P2GKC"
   },
   "outputs": [],
   "source": [
    "with open('dataset_dict.json', 'w') as fp:\n",
    "    json.dump(dataset_dict, fp)"
   ]
  },
  {
   "cell_type": "code",
   "execution_count": null,
   "metadata": {
    "colab": {
     "base_uri": "https://localhost:8080/"
    },
    "id": "CDGoWC9NweM7",
    "outputId": "5a52cfbc-2725-468b-c83d-554c29f94507"
   },
   "outputs": [],
   "source": [
    "# Opening JSON file\n",
    "f = open('RRUFF/dataset_dict.json',)\n",
    "   \n",
    "# returns JSON object as \n",
    "# a dictionary\n",
    "dataset_dict = json.load(f)\n",
    "   \n",
    "# Iterating through the json\n",
    "# list\n",
    "for i in dataset_dict:\n",
    "    print(i)\n",
    "  \n",
    "# Closing file\n",
    "f.close()"
   ]
  },
  {
   "cell_type": "code",
   "execution_count": null,
   "metadata": {
    "colab": {
     "base_uri": "https://localhost:8080/"
    },
    "id": "vsD2VZEV2TCq",
    "outputId": "f359ef1b-d409-455e-98c4-fee9d54a140f"
   },
   "outputs": [],
   "source": [
    "print(len(list(dataset_dict.keys())))\n",
    "print(len(list(analytes.keys())))"
   ]
  },
  {
   "cell_type": "code",
   "execution_count": null,
   "metadata": {
    "id": "1ZBacBGVUgIj"
   },
   "outputs": [],
   "source": [
    "labels = {}\n",
    "for index, line in enumerate(files):\n",
    "    mineral_name = re.findall('[^_]*', line)[0]\n",
    "    if mineral_name in labels:\n",
    "        labels[mineral_name][1] += 1\n",
    "    else:\n",
    "        labels[mineral_name] = [index, 0]"
   ]
  },
  {
   "cell_type": "code",
   "execution_count": null,
   "metadata": {
    "id": "kYDdJAFwUiwo"
   },
   "outputs": [],
   "source": [
    "with open('labels.json', 'w') as fp:\n",
    "        json.dump(labels, fp,  indent=4)"
   ]
  },
  {
   "cell_type": "code",
   "execution_count": null,
   "metadata": {
    "id": "jzgGC0oFlFMR"
   },
   "outputs": [],
   "source": [
    "def peakdet(v, delta, x=None):\n",
    "    \"\"\"\n",
    "    Converted from MATLAB script at http://billauer.co.il/peakdet.html\n",
    "\n",
    "    Returns two arrays\n",
    "\n",
    "    function [maxtab, mintab]=peakdet(v, delta, x)\n",
    "    %PEAKDET Detect peaks in a vector\n",
    "    %        [MAXTAB, MINTAB] = PEAKDET(V, DELTA) finds the local\n",
    "    %        maxima and minima (\"peaks\") in the vector V.\n",
    "    %        MAXTAB and MINTAB consists of two columns. Column 1\n",
    "    %        contains indices in V, and column 2 the found values.\n",
    "    %      \n",
    "    %        With [MAXTAB, MINTAB] = PEAKDET(V, DELTA, X) the indices\n",
    "    %        in MAXTAB and MINTAB are replaced with the corresponding\n",
    "    %        X-values.\n",
    "    %\n",
    "    %        A point is considered a maximum peak if it has the maximal\n",
    "    %        value, and was preceded (to the left) by a value lower by\n",
    "    %        DELTA.\n",
    "\n",
    "    % Eli Billauer, 3.4.05 (Explicitly not copyrighted).\n",
    "    % This function is released to the public domain; Any use is allowed.\n",
    "\n",
    "    \"\"\"\n",
    "    maxtab = []\n",
    "    mintab = []\n",
    "\n",
    "    if x is None:\n",
    "        x = np.arange(len(v))\n",
    "\n",
    "    v = np.asarray(v)\n",
    "\n",
    "    if len(v) != len(x):\n",
    "        sys.exit('Input vectors v and x must have same length')\n",
    "\n",
    "    if not np.isscalar(delta):\n",
    "        sys.exit('Input argument delta must be a scalar')\n",
    "\n",
    "    if delta <= 0:\n",
    "        sys.exit('Input argument delta must be positive')\n",
    "\n",
    "    mn, mx = np.Inf, -np.Inf\n",
    "    mnpos, mxpos = np.NaN, np.NaN\n",
    "\n",
    "    lookformax = True\n",
    "\n",
    "    for i in np.arange(len(v)):\n",
    "        this = v[i]\n",
    "        if this > mx:\n",
    "            mx = this\n",
    "            mxpos = x[i]\n",
    "        if this < mn:\n",
    "            mn = this\n",
    "            mnpos = x[i]\n",
    "\n",
    "        if lookformax:\n",
    "            if this < mx - delta:\n",
    "                maxtab.append((mxpos, mx))\n",
    "                mn = this\n",
    "                mnpos = x[i]\n",
    "                lookformax = False\n",
    "        else:\n",
    "            if this > mn + delta:\n",
    "                mintab.append((mnpos, mn))\n",
    "                mx = this\n",
    "                mxpos = x[i]\n",
    "                lookformax = True\n",
    "\n",
    "    return np.array(maxtab), np.array(mintab)"
   ]
  },
  {
   "cell_type": "code",
   "execution_count": null,
   "metadata": {
    "id": "6rQoUUYqW5_i"
   },
   "outputs": [],
   "source": [
    "dataset_list = []\n",
    "for index, filename in enumerate(files):\n",
    "    tmp = pd.read_csv('RRUFF/raman/' + filename, sep=',', comment='#', header=None)  \n",
    "    dataset_list.append(np.array(tmp.iloc[:, 1], dtype=np.float64))\n",
    "    if index % 100 == 0:\n",
    "      print(index // 100)"
   ]
  },
  {
   "cell_type": "code",
   "execution_count": null,
   "metadata": {
    "colab": {
     "base_uri": "https://localhost:8080/"
    },
    "id": "ciM8ohIB-T4Z",
    "outputId": "770c3cc6-1e2d-41da-cf20-ebfd6a4ce695"
   },
   "outputs": [],
   "source": [
    "len(files)"
   ]
  },
  {
   "cell_type": "code",
   "execution_count": null,
   "metadata": {
    "colab": {
     "base_uri": "https://localhost:8080/"
    },
    "id": "safXKe9LKJYL",
    "outputId": "ca7120b5-a065-47bd-81ff-bb4b1c5b784b"
   },
   "outputs": [],
   "source": [
    "check = pd.read_csv('RRUFF/raman/' + files[random.randint(0, 36964)], sep=',', comment='#', header=None)\n",
    "wavenumber = np.array(check.iloc[:, 0], dtype=np.float64)\n",
    "spectra = np.array(check.iloc[:, 1], dtype=np.float64)\n",
    "print(type(check.iloc[:, 1]))"
   ]
  },
  {
   "cell_type": "code",
   "execution_count": null,
   "metadata": {
    "id": "gKRu6UHS3hfV"
   },
   "outputs": [],
   "source": [
    "maxtab, mintab = peakdet(spectra / np.max(spectra), 0.08)"
   ]
  },
  {
   "cell_type": "code",
   "execution_count": null,
   "metadata": {
    "colab": {
     "base_uri": "https://localhost:8080/",
     "height": 34
    },
    "id": "PzhNs4XzHgsn",
    "outputId": "c5ef3a7e-f16b-4d30-9456-d8b97def87a6"
   },
   "outputs": [],
   "source": [
    "# import matplotlib.pyplot as plt\n",
    "# plt.figure(figsize=(15, 10))\n",
    "# plt.plot(spectra)\n",
    "# plt.scatter(np.array(maxtab)[:,0], np.array(maxtab)[:,1] * np.max(spectra), color='blue')\n",
    "# # plt.scatter(np.array(mintab)[:,0], np.array(mintab)[:,1], color='red')\n",
    "plt.savefig('nice_peak.png', dpi=600)"
   ]
  },
  {
   "cell_type": "code",
   "execution_count": null,
   "metadata": {
    "colab": {
     "base_uri": "https://localhost:8080/",
     "height": 184
    },
    "id": "xjNeA69FYdZO",
    "outputId": "5f658c69-f33a-49a9-c507-6d93144eac6f"
   },
   "outputs": [],
   "source": [
    "print(wavenumber.shape)\n",
    "print(spectra.shape)"
   ]
  },
  {
   "cell_type": "code",
   "execution_count": null,
   "metadata": {
    "colab": {
     "base_uri": "https://localhost:8080/"
    },
    "id": "9w7_CL8bFqbd",
    "outputId": "b721a67a-eefe-4646-f0aa-658ecf2f6760"
   },
   "outputs": [],
   "source": [
    "path = 'RRUFF/raman/'\n",
    "analytes_peak_chosen_ones_dict = {}\n",
    "count = 0\n",
    "pos = []\n",
    "for index, analyte in enumerate(list(dataset_dict.items())):\n",
    "  if len(analyte[1]) > 20:\n",
    "    count += 1\n",
    "    pos.append(index)\n",
    "    # # print(len(i[1]))\n",
    "    # for filename in analyte[1]:\n",
    "    #   tmp = pd.read_csv(path + filename, sep=',', comment='#', header=None)\n",
    "    #   wavenumber = np.array(tmp.iloc[:, 0], dtype=np.float64)\n",
    "    #   spectra = np.array(tmp.iloc[:, 1], dtype=np.float64)\n",
    "    #   maxtab, mintab = peakdet(spectra / np.max(spectra), 0.07, wavenumber)\n",
    "    #   if analyte[0] not in analytes_peak_chosen_ones_dict:\n",
    "    #     print('analyte not in dataset')\n",
    "    #     print(analyte)\n",
    "    #     # print(dataset_dict[analyte])\n",
    "    #     if maxtab.ndim > 1 and mintab.ndim > 1:\n",
    "    #       analytes_peak_chosen_ones_dict[analyte[0]] = [(filename, maxtab)]\n",
    "    #   else:\n",
    "    #     print('analyte in dataset')\n",
    "    #     print(analyte)\n",
    "    #     if maxtab.ndim > 1 and mintab.ndim > 1:\n",
    "    #       analytes_peak_chosen_ones_dict[analyte[0]].append((filename, maxtab))\n",
    "print(count)"
   ]
  },
  {
   "cell_type": "code",
   "execution_count": null,
   "metadata": {
    "colab": {
     "base_uri": "https://localhost:8080/"
    },
    "id": "QgAUmcBfpESX",
    "outputId": "5a076a4c-9280-4537-efe8-6be03a36a4c2"
   },
   "outputs": [],
   "source": [
    "print(list(dataset_dict.items()))"
   ]
  },
  {
   "cell_type": "code",
   "execution_count": null,
   "metadata": {
    "id": "N9MuDlyGlefa"
   },
   "outputs": [],
   "source": [
    "import math\n",
    "from scipy.signal import savgol_filter"
   ]
  },
  {
   "cell_type": "code",
   "execution_count": null,
   "metadata": {
    "colab": {
     "base_uri": "https://localhost:8080/"
    },
    "id": "lhDAvvVjuZWk",
    "outputId": "27677b05-97d9-4e91-b4bf-53b429e543fa"
   },
   "outputs": [],
   "source": [
    "path = 'RRUFF/raman/'\n",
    "analytes_peak_chosen_ones_dict = {}\n",
    "for index, analyte in enumerate(list(dataset_dict.items())):\n",
    "  if len(analyte[1]) > 20:\n",
    "    # print(len(i[1]))\n",
    "    snr = []\n",
    "    for filename in analyte[1]:\n",
    "      tmp = pd.read_csv(path + filename, sep=',', comment='#', header=None)\n",
    "      spectra = np.array(tmp.iloc[:, 1], dtype=np.float64)\n",
    "      ref_quality = savgol_filter(spectra, 9, 3)\n",
    "      tmp_snr = 10 * math.log10(np.sum(np.abs(spectra) ** 2) / np.sum(np.abs(ref_quality - spectra) ** 2))\n",
    "      snr.append(tmp_snr)\n",
    "    \n",
    "    index_highest_snr = snr.index(max(snr))\n",
    "    print(analyte[1][index_highest_snr])\n",
    "    tmp = pd.read_csv(path + analyte[1][index_highest_snr], sep=',', comment='#', header=None)\n",
    "    spectra = np.array(tmp.iloc[:, 1], dtype=np.float64)\n",
    "    wavenumber = np.array(tmp.iloc[:, 0], dtype=np.float64)\n",
    "    maxtab, mintab = peakdet(spectra / np.max(spectra), 0.07, wavenumber)\n",
    "    analytes_peak_chosen_ones_dict[analyte[0]] = [(analyte[1][index_highest_snr], maxtab)]"
   ]
  },
  {
   "cell_type": "code",
   "execution_count": null,
   "metadata": {
    "id": "yGRlr1_20k09"
   },
   "outputs": [],
   "source": []
  },
  {
   "cell_type": "code",
   "execution_count": null,
   "metadata": {
    "id": "jJ-0lJkHzJSR"
   },
   "outputs": [],
   "source": [
    "import pickle\n",
    "\n",
    "with open('analytes_peak_chosen_ones_dict.pickle', 'wb') as handle:\n",
    "    pickle.dump(analytes_peak_chosen_ones_dict, handle, protocol=pickle.HIGHEST_PROTOCOL)"
   ]
  },
  {
   "cell_type": "code",
   "execution_count": null,
   "metadata": {
    "id": "A-Lw-k7rlCud"
   },
   "outputs": [],
   "source": [
    "def choose_files(dataset_dict):\n",
    "analytes_peak_chosen_ones_dict = {}\n",
    "  for index, analyte in enumerate(list(dataset_dict.items())):\n",
    "  if len(analyte[1]) > 20:\n",
    "    # print(len(i[1]))\n",
    "    snr = []\n",
    "    for filename in analyte[1]:\n",
    "      tmp = pd.read_csv(path + filename, sep=',', comment='#', header=None)\n",
    "      spectra = np.array(tmp.iloc[:, 1], dtype=np.float64)\n",
    "      ref_quality = savgol_filter(spectra, 9, 3)\n",
    "      tmp_snr = 10 * math.log10(np.sum(np.abs(spectra) ** 2) / np.sum(np.abs(ref_quality - spectra) ** 2))\n",
    "      snr.append(tmp_snr)\n",
    "    \n",
    "    index_highest_snr = snr.index(max(snr))\n",
    "    print(analyte[1][index_highest_snr])\n",
    "    tmp = pd.read_csv(path + analyte[1][index_highest_snr], sep=',', comment='#', header=None)\n",
    "    spectra = np.array(tmp.iloc[:, 1], dtype=np.float64)\n",
    "    wavenumber = np.array(tmp.iloc[:, 0], dtype=np.float64)\n",
    "    analytes_peak_chosen_ones_dict[analyte[0]] = [(analyte[1][index_highest_snr], maxtab)]\n",
    "      # if analyte[0] not in analytes_peak_chosen_ones_dict:\n",
    "      #   print('analyte not in dataset')\n",
    "      #   print(analyte)\n",
    "      #   # print(dataset_dict[analyte])\n",
    "      #   if maxtab.ndim > 1 and mintab.ndim > 1:\n",
    "      #     analytes_peak_chosen_ones_dict[analyte[0]] = [(filename, maxtab)]\n",
    "      # else:\n",
    "      #   print('analyte in dataset')\n",
    "      #   print(analyte)\n",
    "      #   if maxtab.ndim > 1 and mintab.ndim > 1:\n",
    "      #     analytes_peak_chosen_ones_dict[analyte[0]].append((filename, maxtab))"
   ]
  },
  {
   "cell_type": "code",
   "execution_count": null,
   "metadata": {
    "id": "dYEBxQg3EQLf"
   },
   "outputs": [],
   "source": [
    "path = 'RRUFF/raman/'\n",
    "count = 0\n",
    "analytes_peaks_dict = {}\n",
    "for analyte in list(dataset_dict.items()):\n",
    "  for filename in analyte[1]:\n",
    "    tmp = pd.read_csv(path + filename, sep=',', comment='#', header=None)\n",
    "    # wavenumber = np.array(tmp.iloc[:, 0], dtype=np.float64)\n",
    "    spectra = np.array(tmp.iloc[:, 1], dtype=np.float64)\n",
    "    maxtab, mintab = peakdet(spectra / np.max(spectra), 0.08)\n",
    "    if analyte[0] not in analytes_peaks_dict:\n",
    "      print('analyte not in dataset')\n",
    "      print(analyte)\n",
    "      # print(dataset_dict[analyte])\n",
    "      if maxtab.ndim > 1 and mintab.ndim > 1:\n",
    "        analytes_peaks_dict[analyte[0]] = [(filename, maxtab[:, 1] * np.max(spectra), mintab[:, 1] * np.max(spectra))]\n",
    "    else:\n",
    "      print('analyte in dataset')\n",
    "      print(analyte)\n",
    "      if maxtab.ndim > 1 and mintab.ndim > 1:\n",
    "        analytes_peaks_dict[analyte[0]].append((filename, maxtab[:, 1] * np.max(spectra), mintab[:, 1] * np.max(spectra)))"
   ]
  },
  {
   "cell_type": "code",
   "execution_count": null,
   "metadata": {
    "id": "7BZx7ZhpKdPu"
   },
   "outputs": [],
   "source": [
    "import pickle\n",
    "\n",
    "with open('analyte_peaks.pickle', 'wb') as handle:\n",
    "    pickle.dump(analytes_peaks_dict, handle, protocol=pickle.HIGHEST_PROTOCOL)"
   ]
  },
  {
   "cell_type": "code",
   "execution_count": null,
   "metadata": {
    "id": "jOfA3tVx0xrf"
   },
   "outputs": [],
   "source": []
  },
  {
   "cell_type": "code",
   "execution_count": 1,
   "metadata": {
    "colab": {
     "base_uri": "https://localhost:8080/",
     "height": 607
    },
    "id": "u_4tIqZHKoqb",
    "outputId": "68dbea95-c412-4e22-cf0e-215cdce47eb1"
   },
   "outputs": [],
   "source": [
    "import pickle \n",
    "import os\n",
    "import pandas as pd\n",
    "import numpy as np\n",
    "import matplotlib.pyplot as plt\n",
    "\n",
    "path = 'raman/'\n",
    "with open('analytes_peak_chosen_ones_dict.pickle', 'rb') as handle:\n",
    "    dataset_dict_new = pickle.load(handle)\n",
    "\n",
    "files_to_check = []\n",
    "analytes = list(dataset_dict_new.keys())[0:]\n",
    "wavenumbers = []\n",
    "spectras = []\n",
    "peaks = []\n",
    "for item in analytes:\n",
    "  filename = dataset_dict_new[item][0][0]\n",
    "  tmp_peaks = dataset_dict_new[item][0][1]\n",
    "  check = pd.read_csv(path + filename, sep=',', comment='#', header=None)\n",
    "  wavenumber = np.array(check.iloc[:, 0], dtype=np.float64)\n",
    "  spectra = np.array(check.iloc[:, 1], dtype=np.float64)\n",
    "  wavenumbers.append(wavenumber)\n",
    "  spectras.append(spectra)\n",
    "  peaks.append(tmp_peaks)\n",
    "  files_to_check.append(filename)"
   ]
  },
  {
   "cell_type": "code",
   "execution_count": 63,
   "metadata": {},
   "outputs": [
    {
     "data": {
      "image/png": "[encoded data removed]",
      "text/plain": [
       "<Figure size 1800x720 with 1 Axes>"
      ]
     },
     "metadata": {
      "needs_background": "light"
     },
     "output_type": "display_data"
    }
   ],
   "source": [
    "index = 45\n",
    "tmp_idx = 800\n",
    "plt.figure(figsize=(25, 10))\n",
    "plt.plot(wavenumbers[index], spectras[index])\n",
    "# plt.plot(wavenumbers[index][begin:end], spectras[index][begin:end])\n",
    "plt.scatter(np.array(peaks[index])[:,0], np.array(peaks[index])[:,1] * np.max(spectras[index]), color='blue')\n",
    "plt.plot(wavenumbers[index][tmp_idx], spectras[index][tmp_idx], 'r*')\n",
    "plt.title(files_to_check[index])\n",
    "plt.show()"
   ]
  },
  {
   "cell_type": "code",
   "execution_count": 61,
   "metadata": {},
   "outputs": [
    {
     "data": {
      "image/png": "[encoded data removed]",
      "text/plain": [
       "<Figure size 1080x720 with 1 Axes>"
      ]
     },
     "metadata": {
      "needs_background": "light"
     },
     "output_type": "display_data"
    }
   ],
   "source": [
    "index = 44\n",
    "tmp_idx = 827\n",
    "start_idx = 800\n",
    "end_idx = 890\n",
    "plt.figure(figsize=(15, 10))\n",
    "plt.plot(wavenumbers[index][start_idx:end_idx], spectras[index][start_idx:end_idx])\n",
    "plt.plot(wavenumbers[index][tmp_idx], spectras[index][tmp_idx], 'r*')\n",
    "# plt.plot(138.3965, 1862.331, 'r*')\n",
    "plt.title(files_to_check[index])\n",
    "plt.show()"
   ]
  },
  {
   "cell_type": "code",
   "execution_count": 62,
   "metadata": {},
   "outputs": [
    {
     "name": "stdout",
     "output_type": "stream",
     "text": [
      "Wavenumber: 1729.102\n",
      "Intensity: 16256.85\n"
     ]
    }
   ],
   "source": [
    "index = 44\n",
    "peaks[index][0][0]\n",
    "np.where(wavenumbers[index] == 143.902)\n",
    "tmp_idx = 827\n",
    "print(\"Wavenumber: {}\".format(wavenumbers[index][tmp_idx]))\n",
    "print(\"Intensity: {}\".format(spectras[index][tmp_idx]))"
   ]
  },
  {
   "cell_type": "code",
   "execution_count": 6,
   "metadata": {},
   "outputs": [],
   "source": [
    "labels = []"
   ]
  },
  {
   "cell_type": "code",
   "execution_count": null,
   "metadata": {},
   "outputs": [],
   "source": []
  },
  {
   "cell_type": "code",
   "execution_count": 7,
   "metadata": {},
   "outputs": [],
   "source": [
    "# index = 41\n",
    "labels.append({1: (844.4171, 24914.75), 2: (4209.592, 36440.54), 3: (3571.269, 35805.47), 4: (4240.447, 34489.33), 5: (969.7675, 21147.46), 6: (940.8405, 20716.51), \n",
    "                7: (4464.149, 31665.37), 8: (4429.437, 31813.96), 9: (784.6346, 18906.03)})\n",
    "\n",
    "# index = 42\n",
    "labels.append({1: (482.7271, 1114.621), 2: (523.2249, 1045.879), 3: (781.6394, 788.5485), 4: (935.9167, 672.7941), 5: (681.3591, 800.8356), 6: (422.9446, 1052.707), \n",
    "                7: (550.2234, 924.3221)})\n",
    "\n",
    "# index = 43\n",
    "labels.append({1: (862.1342, 5367.389), 2: (831.2787, 4535.211), 3: (846.2243, 3556.652), 4: (784.9955, 2444.69), 5: (608.0587, 928.7065), 6: (808.6192, 882.7186), \n",
    "                7: (977.8422, 148.8295), 8: (586.8455, 335.7901, 9: (933.0053, 244.1711), 10: (914.2028, 112.1284))})\n",
    "\n",
    "# index = 44\n",
    "labels.append({1: (406.174, 40913.7), 2: (2953.678, 51328.96). 3: (485.241, 28617.02), 4: (2953.678, 51328.96), 5: (143.902, 27244.24), 6: (614.448, 13029.18),\n",
    "              7: (1453.331, 16266.09), 8: (791.867, 11787.95), 9: (3001.89, 31360.13), 10: (2845.684, 23559.54), 11: (253.825, 15410.15), 12: (1729.102, 16256.85)})"
   ]
  },
  {
   "cell_type": "code",
   "execution_count": null,
   "metadata": {},
   "outputs": [],
   "source": [
    "# index = 31 - 40\n",
    "\n",
    "# index = 31\n",
    "labels.append({1: (973.9041, 22607.7), 2: (645.1008, 14741.71), 3: (314.8511, 10802.12), 4: (1038.99, 6302.094), 5: (514.4472, 2328.385), 6: (243.0157, 2072.354), \n",
    "            7: (394.4003, 2564.863), 8: (153.8242, 2623.743), 9: (138.3965, 1862.331), 10: (996.0814, 4075.527), 11: (576.1581, 1302.662), 12: (717.4182, 824.145),  13:(460.4502, 427.6848)})\n",
    "\n",
    "# index = 32\n",
    "labels.append({1: (1085.735, 12627.27), 2: (279.6358, 2493.682), 3: (712.0944, 1409.423), 4: (154.2855, 794.4526), 5: (1014.864, 273.0842)})\n",
    "\n",
    "# index = 33\n",
    "labels.append({1: (242.4624, 2449.782), 2: (286.3349, 1003.515), 3: (634.4229, 316.4645), 4: (592.4788, 301.3776), 5: (476.2888, 212.0727), 6: (489.788, 120.7352),\n",
    "             7: (695.1696, 38.99556)})\n",
    "\n",
    "# index = 34\n",
    "labels.append({1: (3499.517, 51506.58), 2: (2936.405, 51417.58), 3: (934.6563, 32511.82), 4: (1007.938, 32632.38), 5: (431.3265, 19569.69), 6: (629.9586, 22144.01),\n",
    "                 7: (574.033, 21474.76), 8: (1461.128, 29242.62), 9: (1090.862, 25039.9)})\n",
    "\n",
    "# index = 35\n",
    "labels.append({1: (1000.4, 11396.18), 2: (454.6441, 1857.322), 3: (1157.088, 1034.03), 4: (638.8127, 691.9186), 5: (656.651, 572.6276), \n",
    "                6: (619.528, 514.3992), 7: (460.4295, 1588.879)})\n",
    "\n",
    "# index = 36\n",
    "labels.append({1: (508.324, 1350.626), 2: (988.5123, 589.6487), 3: (249.9095, 449.0841), 4: (168.9138, 472.4133), 5: (357.9036, 324.9977), 6: (685.743, 366.538), \n",
    "                7: (753.2393, 371.8107), 8: (305.835, 304.481), 9: (1056.009, 424.6125), 10: (728.1693, 358.3673)})\n",
    "\n",
    "# index = 37\n",
    "labels.append({1: (1063.335, 34454.83), 2: (1481.813, 29318.01), 3: (1373.818, 27597.74), 4: (845.4186, 16324.59), 5: (687.2843, 14297.67), 6: (147.3136, 13440.54), \n",
    "                7: (222.5238, 10294.52)})\n",
    "\n",
    "# index = 38\n",
    "labels.append({1: (479.069, 238399.8), 2: (334.676, 23042.88), 3: (1095.415, 25483.79), 4: (1031.5, 14632.72), 5: (794.268, 9359.719)})\n",
    "\n",
    "# index = 39\n",
    "labels.append({1: (291.4432, 24.49878), 2: (356.0468, 2.818775), 3: (324.2271, 1.627902), 4: (356.0468, 2.818775)})\n",
    "\n",
    "# index = 40\n",
    "labels.append({1: (601.342, 1678.743), 2: (601.342, 1678.743), 3: (3478.615, 1189.657), 4: (884.8267, 620.3753), 5: (1453.724, 351.8175), 6: (3006.14, 719.1489), \n",
    "                7: (2846.077, 427.5487), 8: (965.8223, 381.6835), 9: (1731.424, 289.0974), 10: (740.1917, 289.5102), 11: (815.4019, 395.4578), \n",
    "                12: (287.002, 265.4959)})"
   ]
  },
  {
   "cell_type": "code",
   "execution_count": null,
   "metadata": {},
   "outputs": [],
   "source": [
    "filename = \"peaks_labeled_31-40.pkl\"\n",
    "open_file = open(filename, \"wb\")\n",
    "pickle.dump(labels, open_file)\n",
    "open_file.close()"
   ]
  },
  {
   "cell_type": "code",
   "execution_count": null,
   "metadata": {},
   "outputs": [],
   "source": [
    "labels = []"
   ]
  },
  {
   "cell_type": "code",
   "execution_count": null,
   "metadata": {},
   "outputs": [],
   "source": [
    "peaks[]"
   ]
  },
  {
   "cell_type": "code",
   "execution_count": null,
   "metadata": {},
   "outputs": [],
   "source": [
    "tmp_idx = 951\n",
    "print(wavenumbers[index][tmp_idx])\n",
    "print(spectras[index][tmp_idx])"
   ]
  },
  {
   "cell_type": "code",
   "execution_count": null,
   "metadata": {},
   "outputs": [],
   "source": [
    "tmp_wavenumber"
   ]
  },
  {
   "cell_type": "code",
   "execution_count": null,
   "metadata": {
    "id": "WOIQVz7YEkLm"
   },
   "outputs": [],
   "source": [
    "path = 'RRUFF/raman/'\n",
    "count = 0\n",
    "analytes_peaks_wavenumber_dict = {}\n",
    "for analyte in list(dataset_dict.items()):\n",
    "  for filename in analyte[1]:\n",
    "    tmp = pd.read_csv(path + filename, sep=',', comment='#', header=None)\n",
    "    # wavenumber = np.array(tmp.iloc[:, 0], dtype=np.float64)\n",
    "    spectra = np.array(tmp.iloc[:, 1], dtype=np.float64)\n",
    "    maxtab, mintab = peakdet(spectra / np.max(spectra), 0.08)\n",
    "    if analyte[0] not in analytes_peaks_dict:\n",
    "      print('analyte not in dataset')\n",
    "      print(analyte)\n",
    "      # print(dataset_dict[analyte])\n",
    "      if maxtab.ndim > 1 and mintab.ndim > 1:\n",
    "        analytes_peaks_wavenumber_dict[analyte[0]] = [(filename, maxtab[:, 1] * np.max(spectra), mintab[:, 1] * np.max(spectra))]\n",
    "    else:\n",
    "      print('analyte in dataset')\n",
    "      print(analyte)\n",
    "      if maxtab.ndim > 1 and mintab.ndim > 1:\n",
    "        analytes_peaks_wavenumber_dict[analyte[0]].append((filename, maxtab[:, 1] * np.max(spectra), mintab[:, 1] * np.max(spectra)))"
   ]
  },
  {
   "cell_type": "code",
   "execution_count": null,
   "metadata": {
    "colab": {
     "base_uri": "https://localhost:8080/",
     "height": 609
    },
    "id": "ntMIqHdG46-8",
    "outputId": "762d15b1-a8b8-4cfc-9e8a-2fc1afbd6ecb"
   },
   "outputs": [],
   "source": [
    "# filename = files[random.randint(0, len(files))]\n",
    "filename = 'Zoisite__X060001__Raman__532__0__unoriented__Raman_Data_Processed__13166.txt'\n",
    "check = pd.read_csv('RRUFF/raman/' + filename, sep=',', comment='#', header=None)\n",
    "wavenumber = np.array(check.iloc[:, 0], dtype=np.float64)\n",
    "spectra = np.array(check.iloc[:, 1], dtype=np.float64)\n",
    "ref_quality = savgol_filter(spectra, 9, 3)\n",
    "tmp_snr = 10 * math.log10(np.sum(np.abs(spectra) ** 2) / np.sum(np.abs(ref_quality - spectra) ** 2))\n",
    "# snr.append(spectra / (ref_quality - spectra))\n",
    "print(tmp_snr)\n",
    "# print(sndr_mean / len(spectra))\n",
    "\n",
    "maxtab, mintab = peakdet(spectra / np.max(spectra), 0.07, wavenumber)\n",
    "\n",
    "import matplotlib.pyplot as plt\n",
    "plt.figure(figsize=(15, 10))\n",
    "plt.plot(wavenumber, spectra)\n",
    "plt.plot(wavenumber, ref_quality)\n",
    "plt.scatter(np.array(maxtab)[:,0], np.array(maxtab)[:,1] * np.max(spectra), color='blue')\n",
    "# plt.scatter(np.array(mintab)[:,0], np.array(mintab)[:,1] * np.max(spectra), color='red')\n",
    "plt.show()"
   ]
  },
  {
   "cell_type": "code",
   "execution_count": null,
   "metadata": {
    "id": "1-YGEF6Q9PYo"
   },
   "outputs": [],
   "source": [
    "def find_peak_supp(int_idx, y_data, peak_importance_fun, discount=0.85):\n",
    "    \n",
    "    # int_idx\n",
    "    #  -> left and right edges\n",
    "    # y_data\n",
    "    #  -> spectral data \n",
    "    # back_data\n",
    "    #  -> spectral data \n",
    "    # discount=0.85\n",
    "    #  -> how generous we are in getting the peaks to continue\n",
    "    #  \n",
    "    \n",
    "    # SR: debug\n",
    "\n",
    "    # int_idx=idx_lr_tmp\n",
    "    \n",
    "    # define the steppeness an the mse of the diff of the \n",
    "    \n",
    "    # expand left and right until the steepness in         \n",
    "    \n",
    "    # TODO\n",
    "    # checknig for teh boundaries \"should\" be unnecessary \n",
    "    \n",
    "    res=len(y_data)\n",
    "    \n",
    "    l_pos_temp=int(np.max([int_idx[0],0]))\n",
    "    r_pos_temp=int(np.min([int_idx[1],res-1]))\n",
    "    \n",
    "    # extend the peak until the decrease from the max importance you have seen in the window is discont*max\n",
    "    # \n",
    "    max_impo = peak_importance_fun(y_data[range(int_idx[0],int_idx[1])])\n",
    "    \n",
    "    # expand the interval until is decreasing by a factor discount, discount account for the randomness in the error\n",
    "    # the discount starts from the median of the vector\n",
    "    \n",
    "    expand_left = True\n",
    "    expand_right = True\n",
    "    \n",
    "    while expand_left == True or expand_right == True:\n",
    "        \n",
    "        # check boundariens\n",
    "\n",
    "        if l_pos_temp==0:\n",
    "           expand_left=False\n",
    "           \n",
    "        if r_pos_temp==res-1:\n",
    "            expand_right = False\n",
    "            \n",
    "        \n",
    "        if expand_left == True:            \n",
    "            impo_left = peak_importance_fun(y_data[range(l_pos_temp-1,r_pos_temp)])\n",
    "                                            \n",
    "            if impo_left < discount*max_impo:\n",
    "               expand_left=False     \n",
    "            else :\n",
    "               l_pos_temp=l_pos_temp-1\n",
    "               \n",
    "        if expand_right == True:\n",
    "            impo_rigth=peak_importance_fun(y_data[range(l_pos_temp,r_pos_temp+1)])\n",
    "            \n",
    "            if impo_rigth< discount*max_impo : \n",
    "               expand_left=False     \n",
    "            else :\n",
    "               r_pos_temp=r_pos_temp+1\n",
    "            \n",
    "        \n",
    "        # update max importance\n",
    "        # TODO we can do this better?\n",
    "        tmp_impo = peak_importance_fun(y_data[range(l_pos_temp,r_pos_temp)])\n",
    "        \n",
    "        if tmp_impo > max_impo:\n",
    "            max_impo=tmp_impo \n",
    "        \n",
    "    return [l_pos_temp,r_pos_temp]\n"
   ]
  },
  {
   "cell_type": "code",
   "execution_count": null,
   "metadata": {
    "colab": {
     "base_uri": "https://localhost:8080/",
     "height": 184
    },
    "id": "m0etOYEDKd-W",
    "outputId": "d808387b-824c-4521-d4ea-3c5cdf67ef1c"
   },
   "outputs": [],
   "source": [
    "with open('analytes_peaks_dict.json', 'w') as fp:\n",
    "    json.dump(analytes_peaks_dict, fp)"
   ]
  },
  {
   "cell_type": "code",
   "execution_count": null,
   "metadata": {
    "id": "Q6tX56gxK3-8"
   },
   "outputs": [],
   "source": [
    "class RRUFFSpectraDataset(Dataset):\n",
    "    def __init__(self, labels, spectra_dir, transform=None, target_transform=None):\n",
    "        self.spectra_labels = json.load(labels)\n",
    "        self.spectra_dir = spectra_dir\n",
    "        self.transform = transform\n",
    "        self.target_transform = target_transform\n",
    "\n",
    "    def __len__(self):\n",
    "        return len(self.spectra_labels)\n",
    "\n",
    "    def __getitem__(self, idx):\n",
    "        spectra_path = os.path.join(self.img_dir, self.img_labels.iloc[idx, 0])\n",
    "        image = read_image(img_path)\n",
    "        label = self.img_labels.iloc[idx, 1]\n",
    "        if self.transform:\n",
    "            image = self.transform(image)\n",
    "        if self.target_transform:\n",
    "            label = self.target_transform(label)\n",
    "        return image, label"
   ]
  }
 ],
 "metadata": {
  "colab": {
   "collapsed_sections": [],
   "name": "RRUFF_pytorch.ipynb",
   "provenance": []
  },
  "kernelspec": {
   "display_name": "Python 3 (ipykernel)",
   "language": "python",
   "name": "python3"
  },
  "language_info": {
   "codemirror_mode": {
    "name": "ipython",
    "version": 3
   },
   "file_extension": ".py",
   "mimetype": "text/x-python",
   "name": "python",
   "nbconvert_exporter": "python",
   "pygments_lexer": "ipython3",
   "version": "3.9.7"
  }
 },
 "nbformat": 4,
 "nbformat_minor": 4
}
